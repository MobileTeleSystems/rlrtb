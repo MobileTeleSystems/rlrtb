{
 "cells": [
  {
   "cell_type": "code",
   "execution_count": null,
   "id": "55a1d074",
   "metadata": {},
   "outputs": [],
   "source": [
    "import sys\n",
    "import numpy as np\n",
    "import gymnasium as gym"
   ]
  },
  {
   "cell_type": "code",
   "execution_count": null,
   "id": "34310027",
   "metadata": {},
   "outputs": [],
   "source": [
    "pip install -r /path/to/rl_papers/rl-rtb-papers/requirements.txt"
   ]
  },
  {
   "cell_type": "markdown",
   "id": "51dc2704",
   "metadata": {},
   "source": [
    "Specify the path to these folders.\n",
    "\n",
    "Make sure you change the path in the script below:\n",
    "\n",
    "/path/to/rl_papers/rl-rtb-papers/scripts/gym-rtb/rtb_env/envs/config.cfg"
   ]
  },
  {
   "cell_type": "code",
   "execution_count": null,
   "id": "90f66a20",
   "metadata": {},
   "outputs": [],
   "source": [
    "path_to_env = '/path/to/rl-rtb-papers/scripts/gym-rtb'\n",
    "path_to_agents = '/path/to/rl-rtb-papers/scripts/agents/'"
   ]
  },
  {
   "cell_type": "code",
   "execution_count": null,
   "id": "0b84d890",
   "metadata": {},
   "outputs": [],
   "source": [
    "sys.path.append(path_to_env)\n",
    "sys.path.append(path_to_agents)"
   ]
  },
  {
   "cell_type": "code",
   "execution_count": null,
   "id": "554f8206",
   "metadata": {},
   "outputs": [],
   "source": [
    "import rtb_env\n",
    "\n",
    "from constant_bid_agent import ConstantBidAgent\n",
    "from random_bid_agent import RandomBidAgent\n",
    "from linear_bid_agent import LinearBidAgent\n",
    "from random_part_bid_agent import RandomParticipationBidAgent\n",
    "from budget_pacing_bid_agent import BudgetPacingAgent"
   ]
  },
  {
   "cell_type": "code",
   "execution_count": null,
   "id": "9b1613be",
   "metadata": {},
   "outputs": [],
   "source": [
    "from epsilon_bid_agent import EpsilonGreedyBidAgent\n",
    "from thompson_bid_agent import ThompsonSamplingBidAgent\n",
    "from ucb_bid_agent import UCBBidAgent\n",
    "from q_learning_bid_agent import QLearningBidAgent"
   ]
  },
  {
   "cell_type": "code",
   "execution_count": null,
   "id": "d4dfab4e",
   "metadata": {},
   "outputs": [],
   "source": [
    "from dqn_agent.dqn_agent import DQNBidAgent\n",
    "from ddpg_agent.ddpg_agent import DDPGBidAgent\n",
    "from td3_agent.td3_agent import TD3BidAgent\n",
    "from sac_agent.sac_agent import SACBidAgent"
   ]
  },
  {
   "cell_type": "markdown",
   "id": "cf20e5a4",
   "metadata": {},
   "source": [
    "Setting up the environment\n",
    "\n",
    "ENV - environment with standardized preprocessed toy-dataset with openRTB requests"
   ]
  },
  {
   "cell_type": "code",
   "execution_count": null,
   "id": "97706832",
   "metadata": {},
   "outputs": [],
   "source": [
    "ENV = gym.make(\n",
    "    id='RTBEnv-v0',\n",
    "    disable_env_checker=True,\n",
    "    num_agents=18\n",
    ")\n",
    "\n",
    "ENV.env.auction_type"
   ]
  },
  {
   "cell_type": "code",
   "execution_count": null,
   "id": "602f6905",
   "metadata": {},
   "outputs": [],
   "source": [
    "ENV.reset()"
   ]
  },
  {
   "cell_type": "code",
   "execution_count": null,
   "id": "6e0a5d56",
   "metadata": {},
   "outputs": [],
   "source": [
    "df = ENV.env.bid_requests"
   ]
  },
  {
   "cell_type": "code",
   "execution_count": null,
   "id": "2da0c098",
   "metadata": {},
   "outputs": [],
   "source": [
    "df.shape"
   ]
  },
  {
   "cell_type": "markdown",
   "id": "05a90568",
   "metadata": {},
   "source": [
    "Set the initial budget, the base bid and the minimum possible bid\n",
    "\n",
    "The budget is set so that the agent, who places a constant bid - can buy all the desired impressions"
   ]
  },
  {
   "cell_type": "code",
   "execution_count": null,
   "id": "1a63814f",
   "metadata": {},
   "outputs": [],
   "source": [
    "bidfloor, second_price = df['slotprice'].values, df['payprice'].values\n",
    "total_clicks = df['click'].sum()\n",
    "\n",
    "base_bid = int(df['bidprice'].max())\n",
    "budget = df.shape[0] * base_bid\n",
    "min_cpm = int(df['bidprice'].max() * 0.6)\n",
    "\n",
    "print('base bid:', base_bid)\n",
    "print('budget:', budget)\n",
    "print('min CPM:', min_cpm)"
   ]
  },
  {
   "cell_type": "code",
   "execution_count": null,
   "id": "926daf92",
   "metadata": {},
   "outputs": [],
   "source": [
    "df.shape[0]"
   ]
  },
  {
   "cell_type": "markdown",
   "id": "50ac279e",
   "metadata": {},
   "source": [
    "Initialize agents and run experiments"
   ]
  },
  {
   "cell_type": "code",
   "execution_count": null,
   "id": "7b4fee4b",
   "metadata": {},
   "outputs": [],
   "source": [
    "SEED = 43"
   ]
  },
  {
   "cell_type": "code",
   "execution_count": null,
   "id": "ffb6b999",
   "metadata": {},
   "outputs": [],
   "source": [
    "ddpg_bid_agent = DDPGBidAgent(\n",
    "    base_bid=base_bid,\n",
    "    budget=budget,\n",
    "    seed=SEED\n",
    ")\n",
    "\n",
    "td3_bid_agent = TD3BidAgent(\n",
    "    base_bid=base_bid,\n",
    "    budget=budget,\n",
    "    seed=SEED\n",
    ")\n",
    "\n",
    "sac_bid_agent = SACBidAgent(\n",
    "    base_bid=base_bid,\n",
    "    budget=budget,\n",
    "    seed=SEED\n",
    ")"
   ]
  },
  {
   "cell_type": "code",
   "execution_count": null,
   "id": "899dc8f6",
   "metadata": {},
   "outputs": [],
   "source": [
    "eps_agent = EpsilonGreedyBidAgent(\n",
    "    base_bid=base_bid,\n",
    "    budget=budget,\n",
    "    seed=SEED\n",
    ")\n",
    "\n",
    "thomspon_agent = ThompsonSamplingBidAgent(\n",
    "    base_bid=base_bid,\n",
    "    budget=budget\n",
    ")\n",
    "\n",
    "ucb_agent = UCBBidAgent(\n",
    "    base_bid=base_bid,\n",
    "    budget=budget\n",
    ")\n",
    "\n",
    "dqn_agent = DQNBidAgent(\n",
    "    base_bid=base_bid,\n",
    "    budget=budget,\n",
    "    seed=SEED\n",
    ")"
   ]
  },
  {
   "cell_type": "code",
   "execution_count": null,
   "id": "552141b1",
   "metadata": {},
   "outputs": [],
   "source": [
    "random_bid_agent = RandomBidAgent(\n",
    "    base_bid=base_bid,\n",
    "    min_cpm=min_cpm,\n",
    "    budget=budget,\n",
    "    seed=SEED\n",
    ")\n",
    "\n",
    "linear_bid_agent = LinearBidAgent(\n",
    "    base_bid=base_bid,\n",
    "    budget=budget\n",
    ")\n",
    "\n",
    "random_part_agent = RandomParticipationBidAgent(\n",
    "    base_bid=base_bid * 0.8,\n",
    "    budget=budget,\n",
    "    seed=SEED\n",
    ")\n",
    "\n",
    "budget_pacing_agent = BudgetPacingAgent(\n",
    "    base_bid=base_bid * 0.8,\n",
    "    budget=budget,\n",
    "    total_steps=df['timestamp'].nunique()\n",
    ")\n",
    "\n",
    "q_learning_agent_exp = QLearningBidAgent(\n",
    "    base_bid=base_bid,\n",
    "    budget=budget,\n",
    "    seed=SEED\n",
    ")\n",
    "\n",
    "q_learning_agent_ucb = QLearningBidAgent(\n",
    "    base_bid=base_bid,\n",
    "    budget=budget,\n",
    "    seed=SEED,\n",
    "    exploration_strategy='ucb'\n",
    ")\n",
    "\n",
    "q_learning_agent_bolt = QLearningBidAgent(\n",
    "    base_bid=base_bid,\n",
    "    budget=budget,\n",
    "    seed=SEED,\n",
    "    exploration_strategy='boltzmann'\n",
    ")\n",
    "\n",
    "q_learning_agent_pursuit = QLearningBidAgent(\n",
    "    base_bid=base_bid,\n",
    "    budget=budget,\n",
    "    seed=SEED,\n",
    "    exploration_strategy='pursuit'\n",
    ")"
   ]
  },
  {
   "cell_type": "code",
   "execution_count": null,
   "id": "0e203425",
   "metadata": {},
   "outputs": [],
   "source": [
    "agents = [\n",
    "    ConstantBidAgent(base_bid=250, budget=budget),\n",
    "    ConstantBidAgent(base_bid=240, budget=budget),\n",
    "    ConstantBidAgent(base_bid=230, budget=budget),\n",
    "    dqn_agent,\n",
    "    random_bid_agent,\n",
    "    linear_bid_agent,\n",
    "    random_part_agent,\n",
    "    budget_pacing_agent,\n",
    "    q_learning_agent_exp,\n",
    "    q_learning_agent_ucb,\n",
    "    q_learning_agent_bolt,\n",
    "    q_learning_agent_pursuit,\n",
    "    eps_agent,\n",
    "    thomspon_agent,\n",
    "    ucb_agent,\n",
    "    ddpg_bid_agent,\n",
    "    td3_bid_agent,\n",
    "    sac_bid_agent\n",
    "]"
   ]
  },
  {
   "cell_type": "code",
   "execution_count": null,
   "id": "fb6b9985",
   "metadata": {},
   "outputs": [],
   "source": [
    "len(agents)"
   ]
  },
  {
   "cell_type": "code",
   "execution_count": null,
   "id": "774b3e7b",
   "metadata": {},
   "outputs": [],
   "source": [
    "obs, reward, cost, done = ENV.reset()\n",
    "done = False\n",
    "all_actions, bidfloors, real_prices = [], [], []\n",
    "\n",
    "while not done:\n",
    "    actions = []\n",
    "\n",
    "    for request_obs in obs:\n",
    "        action_list, bidfloor_list, real_price_list = [], [], []\n",
    "\n",
    "        for agent in agents:\n",
    "            action = agent.act(request_obs, reward, cost)\n",
    "            action_list.append(action)\n",
    "            bidfloor_list.append(request_obs.get('slotprice'))\n",
    "            real_price_list.append(request_obs.get('payprice'))\n",
    "\n",
    "        actions.append(action_list)\n",
    "        all_actions.append(action_list)\n",
    "        bidfloors.append(bidfloor_list)\n",
    "        real_prices.append(real_price_list)\n",
    "\n",
    "    next_obs, rewards, costs, done = ENV.step(actions)\n",
    "\n",
    "    for request_idx in range(len(next_obs)):\n",
    "        request_obs = next_obs[request_idx]\n",
    "        request_rewards = rewards[request_idx]\n",
    "        request_costs = costs[request_idx]\n",
    "\n",
    "        for agent_idx, agent in enumerate(agents):\n",
    "            if agent_idx < len(request_rewards) and agent_idx < len(request_costs):\n",
    "                reward_val = request_rewards[agent_idx]\n",
    "                cost_val = request_costs[agent_idx]\n",
    "                agent.update(request_obs, reward_val, cost_val)\n",
    "            else:\n",
    "                print(f\"Error: there is no rewards/costs data for agent {agent_idx} and request {request_idx}\")\n",
    "                \n",
    "    ENV.env.render_frame()\n",
    "    obs = next_obs\n",
    "\n",
    "    if np.any([agent.done() for agent in agents]) or ENV.env._total_steps == ENV.env._block_index:\n",
    "        print('Simulation completed')\n",
    "        break\n",
    "\n",
    "ENV.env.close()"
   ]
  },
  {
   "cell_type": "markdown",
   "id": "75e4c767",
   "metadata": {},
   "source": [
    "# Quick stats"
   ]
  },
  {
   "cell_type": "code",
   "execution_count": null,
   "id": "9df3a3c6",
   "metadata": {
    "jupyter": {
     "source_hidden": true
    }
   },
   "outputs": [],
   "source": [
    "clicks, wins, bids = 0, 0, 0\n",
    "\n",
    "for agent in agents:\n",
    "    print(\n",
    "        '\\n',\n",
    "        agent, \n",
    "        '\\nbids:', agent.total_bids, \n",
    "        '\\nwins:', agent.total_wins,\n",
    "        '\\nclicks:', agent.total_clicks, \n",
    "        '\\nCTR:', round(agent.total_clicks / agent.total_wins if agent.total_wins else 0 * 100, 2),'%',\n",
    "        '\\npart of total amount of clicks:', round(agent.total_clicks / df['click'].sum() * 100, 2), '%',\n",
    "        '\\npart of total amount of clicks:', round(agent.total_clicks / df.shape[0] * 100, 2), '%',\n",
    "        '\\nrewards:', round(agent.total_rewards, 2), \n",
    "        '\\nremaining budget:', round(((budget - agent.total_budget_spend) / budget * 100), 2), '%'\n",
    "    )\n",
    "    clicks += agent.total_clicks\n",
    "    wins += agent.total_wins\n",
    "    bids += agent.total_bids\n",
    "\n",
    "print('\\ntotal bids:', bids, 'total wins:', wins, 'total clicks:', clicks,)\n",
    "print('ref bids:', df.shape[0], 'ref wins:', df.shape[0], 'ref clicks:', df['click'].sum())"
   ]
  },
  {
   "cell_type": "markdown",
   "id": "d33d86f1",
   "metadata": {},
   "source": [
    "## Visualization"
   ]
  },
  {
   "cell_type": "code",
   "execution_count": null,
   "id": "ce46f0b0",
   "metadata": {},
   "outputs": [],
   "source": [
    "import matplotlib.pyplot as plt\n",
    "\n",
    "from matplotlib.ticker import PercentFormatter"
   ]
  },
  {
   "cell_type": "markdown",
   "id": "3eb0d052",
   "metadata": {},
   "source": [
    "# Bids distribution per agent"
   ]
  },
  {
   "cell_type": "code",
   "execution_count": null,
   "id": "55c205cd",
   "metadata": {},
   "outputs": [],
   "source": [
    "n_agents = len(agents)\n",
    "agent_bids = [[] for _ in range(n_agents)]\n",
    "\n",
    "for request in all_actions:\n",
    "    for agent_idx in range(n_agents):\n",
    "        agent_bids[agent_idx].append(request[agent_idx])\n",
    "        \n",
    "agent_bids = [np.array(bids) for bids in agent_bids]\n",
    "\n",
    "plt.figure(\n",
    "    figsize=(18, 6),\n",
    "    dpi=125\n",
    ")\n",
    "\n",
    "for i in range(n_agents):\n",
    "    plt.hist(\n",
    "        x=agent_bids[i], \n",
    "        bins=50, \n",
    "        alpha=0.5, \n",
    "        label=f'Agent {i}'\n",
    "    )\n",
    "plt.title(\"Agent's bid distribution\", fontsize=14)\n",
    "plt.xlabel('Bid value', fontsize=12)\n",
    "plt.ylabel('Count', fontsize=12)\n",
    "plt.legend(loc='upper left')\n",
    "plt.grid(True)\n",
    "plt.tight_layout()"
   ]
  },
  {
   "cell_type": "markdown",
   "id": "2a8278f4",
   "metadata": {},
   "source": [
    "# Bids distribution per agent (box plot)"
   ]
  },
  {
   "cell_type": "code",
   "execution_count": null,
   "id": "740524bd",
   "metadata": {},
   "outputs": [],
   "source": [
    "plt.figure(\n",
    "    figsize=(18, 6),\n",
    "    dpi=125\n",
    ")\n",
    "plt.boxplot(\n",
    "    x=[agent_bids[i] for i in range(n_agents)],\n",
    "    labels=[f'Agent {i}' for i in range(n_agents)]\n",
    ")\n",
    "plt.ylim(0, base_bid * 1.2)\n",
    "plt.title(\"Agent's bid distribution\", fontsize=14)\n",
    "plt.xlabel('Agents', fontsize=12)\n",
    "plt.ylabel('Bid value', fontsize=12)\n",
    "plt.grid(True)\n",
    "plt.tight_layout()"
   ]
  },
  {
   "cell_type": "markdown",
   "id": "2f3391e4",
   "metadata": {},
   "source": [
    "# Bids vs bidfloor"
   ]
  },
  {
   "cell_type": "code",
   "execution_count": null,
   "id": "b722bfbb",
   "metadata": {},
   "outputs": [],
   "source": [
    "bidfloor_per_request = np.array([sublist[0] for sublist in bidfloors])\n",
    "real_prices_per_request = np.array([sublist[0] for sublist in real_prices])\n",
    "above_bidfloor = [np.mean(bids > bidfloor_per_request) * 100 for bids in agent_bids]\n",
    "above_payprice = [np.mean(bids > real_prices_per_request) * 100 for bids in agent_bids]\n",
    "x = np.arange(n_agents)\n",
    "\n",
    "plt.figure(\n",
    "    figsize=(18, 6),\n",
    "    dpi=125\n",
    ")\n",
    "plt.bar(\n",
    "    x=x-0.2, \n",
    "    height=above_bidfloor, \n",
    "    width=0.4, \n",
    "    label='Above bidfloor'\n",
    ")\n",
    "plt.bar(\n",
    "    x=x+0.2, \n",
    "    height=above_payprice, \n",
    "    width=0.4, \n",
    "    label='Above payprice'\n",
    ")\n",
    "plt.xticks(x, [f'Agent {i}' for i in range(n_agents)])\n",
    "plt.title('Сomparison of the effectiveness of strategies', fontsize=14)\n",
    "plt.xlabel('Agents', fontsize=12)\n",
    "plt.ylabel('Proportion of cases, %', fontsize=12)\n",
    "plt.legend(loc='upper right')\n",
    "plt.grid(True)\n",
    "plt.tight_layout()"
   ]
  },
  {
   "cell_type": "markdown",
   "id": "e34ec4e1",
   "metadata": {},
   "source": [
    "# Clicks plot"
   ]
  },
  {
   "cell_type": "code",
   "execution_count": null,
   "id": "27e8b62c",
   "metadata": {},
   "outputs": [],
   "source": [
    "clicks = [agent.total_clicks for agent in agents]\n",
    "\n",
    "plt.figure(\n",
    "    figsize=(18, 6),\n",
    "    dpi=125\n",
    ")\n",
    "plt.bar(\n",
    "    x=range(len(agents)), \n",
    "    height=clicks, \n",
    "    label='Agents'\n",
    ")\n",
    "plt.axhline(\n",
    "    y=df['click'].sum(), \n",
    "    color='r', \n",
    "    linestyle='--', \n",
    "    label='Total amount'\n",
    ")\n",
    "plt.xticks(\n",
    "    ticks=range(len(agents)), \n",
    "    labels=[f'Agent {i}' for i in range(len(agents))]\n",
    ")\n",
    "plt.ylim(0, df['click'].sum() * 1.2)\n",
    "plt.title('Total Clicks', fontsize=14)\n",
    "plt.xlabel('Agent', fontsize=12)\n",
    "plt.ylabel('Clicks count', fontsize=12)\n",
    "plt.legend(loc = 'upper right')\n",
    "plt.tight_layout()"
   ]
  },
  {
   "cell_type": "markdown",
   "id": "b40c7768",
   "metadata": {},
   "source": [
    "# Remaining budget"
   ]
  },
  {
   "cell_type": "code",
   "execution_count": null,
   "id": "0afc53b0",
   "metadata": {},
   "outputs": [],
   "source": [
    "budget_left = [(budget - agent.total_budget_spend) / budget * 100 for agent in agents]\n",
    "\n",
    "plt.figure(\n",
    "    figsize=(18, 6),\n",
    "    dpi=125\n",
    ")\n",
    "plt.bar(\n",
    "    x=range(len(agents)), \n",
    "    height=budget_left\n",
    ")\n",
    "plt.gca().yaxis.set_major_formatter(PercentFormatter())\n",
    "plt.title('Remaining Budget, %', fontsize=14)\n",
    "plt.xlabel('Agent', fontsize=12)\n",
    "plt.ylabel('Budget share, %', fontsize=12)\n",
    "plt.xticks(range(len(agents)), [f'Agent {i}' for i in range(len(agents))])\n",
    "plt.ylim(0, 100)\n",
    "plt.tight_layout()"
   ]
  },
  {
   "cell_type": "markdown",
   "id": "541ca978",
   "metadata": {},
   "source": [
    "# Share of total metrics"
   ]
  },
  {
   "cell_type": "code",
   "execution_count": null,
   "id": "99694600",
   "metadata": {},
   "outputs": [],
   "source": [
    "total_bids = sum([agent.total_bids for agent in agents])\n",
    "total_wins = sum([agent.total_wins for agent in agents])\n",
    "total_clicks = sum([agent.total_clicks for agent in agents])\n",
    "\n",
    "bid_shares = [agent.total_bids / total_bids * 100 if total_bids > 0 else 0 for agent in agents]\n",
    "win_shares = [agent.total_wins / total_wins * 100 if total_wins > 0 else 0 for agent in agents]\n",
    "click_shares = [agent.total_clicks / total_clicks * 100 if total_clicks > 0 else 0 for agent in agents]\n",
    "\n",
    "bar_width = 0.2\n",
    "\n",
    "x = np.arange(n_agents)\n",
    "\n",
    "plt.figure(\n",
    "    figsize=(18, 6), \n",
    "    dpi=125\n",
    ")\n",
    "\n",
    "plt.bar(\n",
    "    x=x - bar_width, \n",
    "    height=bid_shares, \n",
    "    width=bar_width, \n",
    "    label='Bids'\n",
    ")\n",
    "plt.bar(\n",
    "    x=x, \n",
    "    height=win_shares, \n",
    "    width=bar_width, \n",
    "    label='Wins'\n",
    ")\n",
    "plt.bar(\n",
    "    x=x + bar_width, \n",
    "    height=click_shares, \n",
    "    width=bar_width, \n",
    "    label='Clicks'\n",
    ")\n",
    "\n",
    "plt.gca().yaxis.set_major_formatter(PercentFormatter())\n",
    "plt.title('Proportional comparison of bids, wins and clicks by agent', fontsize=14)\n",
    "plt.xlabel('Agents', fontsize=12)\n",
    "plt.ylabel('Share, %', fontsize=12)\n",
    "plt.xticks(x, [f'Agent {i}' for i in range(n_agents)])\n",
    "plt.ylim(0, min(100, max(max(bid_shares), max(win_shares), max(click_shares)) + 10))\n",
    "plt.legend(loc='upper right')\n",
    "plt.tight_layout()\n",
    "plt.show()"
   ]
  },
  {
   "cell_type": "code",
   "execution_count": null,
   "id": "108471a6",
   "metadata": {},
   "outputs": [],
   "source": []
  }
 ],
 "metadata": {
  "kernelspec": {
   "display_name": "rl",
   "language": "python",
   "name": "python3"
  },
  "language_info": {
   "codemirror_mode": {
    "name": "ipython",
    "version": 3
   },
   "file_extension": ".py",
   "mimetype": "text/x-python",
   "name": "python",
   "nbconvert_exporter": "python",
   "pygments_lexer": "ipython3",
   "version": "3.12.7"
  }
 },
 "nbformat": 4,
 "nbformat_minor": 5
}
